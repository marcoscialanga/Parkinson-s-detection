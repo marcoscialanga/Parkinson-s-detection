{
 "cells": [
  {
   "cell_type": "code",
   "execution_count": 1,
   "metadata": {
    "_cell_guid": "b1076dfc-b9ad-4769-8c92-a6c4dae69d19",
    "_uuid": "8f2839f25d086af736a60e9eeb907d3b93b6e0e5",
    "execution": {
     "iopub.execute_input": "2020-12-01T20:16:24.940402Z",
     "iopub.status.busy": "2020-12-01T20:16:24.939589Z",
     "iopub.status.idle": "2020-12-01T20:16:24.947057Z",
     "shell.execute_reply": "2020-12-01T20:16:24.946253Z"
    },
    "papermill": {
     "duration": 0.03248,
     "end_time": "2020-12-01T20:16:24.947189",
     "exception": false,
     "start_time": "2020-12-01T20:16:24.914709",
     "status": "completed"
    },
    "tags": []
   },
   "outputs": [
    {
     "name": "stdout",
     "output_type": "stream",
     "text": [
      "/kaggle/input/parkinsons-data-set/parkinsons.names\n",
      "/kaggle/input/parkinsons-data-set/parkinsons.data\n"
     ]
    }
   ],
   "source": [
    "# This Python 3 environment comes with many helpful analytics libraries installed\n",
    "# It is defined by the kaggle/python Docker image: https://github.com/kaggle/docker-python\n",
    "# For example, here's several helpful packages to load\n",
    "\n",
    "import numpy as np # linear algebra\n",
    "import pandas as pd # data processing, CSV file I/O (e.g. pd.read_csv)\n",
    "\n",
    "# Input data files are available in the read-only \"../input/\" directory\n",
    "# For example, running this (by clicking run or pressing Shift+Enter) will list all files under the input directory\n",
    "\n",
    "import os\n",
    "for dirname, _, filenames in os.walk('/kaggle/input'):\n",
    "    for filename in filenames:\n",
    "        print(os.path.join(dirname, filename))\n",
    "\n",
    "# You can write up to 5GB to the current directory (/kaggle/working/) that gets preserved as output when you create a version using \"Save & Run All\" \n",
    "# You can also write temporary files to /kaggle/temp/, but they won't be saved outside of the current session"
   ]
  },
  {
   "cell_type": "code",
   "execution_count": 2,
   "metadata": {
    "_cell_guid": "79c7e3d0-c299-4dcb-8224-4455121ee9b0",
    "_uuid": "d629ff2d2480ee46fbb7e2d37f6b5fab8052498a",
    "execution": {
     "iopub.execute_input": "2020-12-01T20:16:24.987892Z",
     "iopub.status.busy": "2020-12-01T20:16:24.987000Z",
     "iopub.status.idle": "2020-12-01T20:16:27.607801Z",
     "shell.execute_reply": "2020-12-01T20:16:27.608401Z"
    },
    "papermill": {
     "duration": 2.64423,
     "end_time": "2020-12-01T20:16:27.608585",
     "exception": false,
     "start_time": "2020-12-01T20:16:24.964355",
     "status": "completed"
    },
    "tags": []
   },
   "outputs": [],
   "source": [
    "import numpy as np\n",
    "import pandas as pd\n",
    "import os, sys\n",
    "from sklearn.preprocessing import MinMaxScaler\n",
    "from xgboost import XGBClassifier\n",
    "from sklearn.model_selection import train_test_split\n",
    "from sklearn.metrics import accuracy_score\n",
    "import matplotlib.pyplot as plt \n",
    "import seaborn as sns"
   ]
  },
  {
   "cell_type": "markdown",
   "metadata": {
    "papermill": {
     "duration": 0.016307,
     "end_time": "2020-12-01T20:16:27.641578",
     "exception": false,
     "start_time": "2020-12-01T20:16:27.625271",
     "status": "completed"
    },
    "tags": []
   },
   "source": [
    "We download the dataset from Kaggle. The data was obtained by Oxford University. From the description, we read that the dataset has information (23 columns) about 31 people's voices, some recorded multiple times (195 recordings total). 23 of these have Parkinson's Disease. Those with the value '1' under 'status' have the disease. Those with value '0' under 'status' don't have the disease.  We want to build a model to see if we can detect Parkinson's disease by looking at the voice measurements. Let's see how our data looks like."
   ]
  },
  {
   "cell_type": "code",
   "execution_count": 3,
   "metadata": {
    "execution": {
     "iopub.execute_input": "2020-12-01T20:16:27.681276Z",
     "iopub.status.busy": "2020-12-01T20:16:27.680467Z",
     "iopub.status.idle": "2020-12-01T20:16:27.700382Z",
     "shell.execute_reply": "2020-12-01T20:16:27.699702Z"
    },
    "papermill": {
     "duration": 0.04237,
     "end_time": "2020-12-01T20:16:27.700507",
     "exception": false,
     "start_time": "2020-12-01T20:16:27.658137",
     "status": "completed"
    },
    "scrolled": true,
    "tags": []
   },
   "outputs": [
    {
     "data": {
      "text/plain": [
       "(195, 24)"
      ]
     },
     "execution_count": 3,
     "metadata": {},
     "output_type": "execute_result"
    }
   ],
   "source": [
    "df = pd.read_csv('/kaggle/input/parkinsons-data-set/parkinsons.data')\n",
    "df.shape"
   ]
  },
  {
   "cell_type": "markdown",
   "metadata": {
    "papermill": {
     "duration": 0.016829,
     "end_time": "2020-12-01T20:16:27.734856",
     "exception": false,
     "start_time": "2020-12-01T20:16:27.718027",
     "status": "completed"
    },
    "tags": []
   },
   "source": [
    "Our dataset is a 195 x 24 matrix. 195 voice recordings (rows), 23 voice features, 1 column as 'status' (has disease or not)"
   ]
  },
  {
   "cell_type": "code",
   "execution_count": 4,
   "metadata": {
    "execution": {
     "iopub.execute_input": "2020-12-01T20:16:27.799103Z",
     "iopub.status.busy": "2020-12-01T20:16:27.793009Z",
     "iopub.status.idle": "2020-12-01T20:16:27.818577Z",
     "shell.execute_reply": "2020-12-01T20:16:27.817871Z"
    },
    "papermill": {
     "duration": 0.06649,
     "end_time": "2020-12-01T20:16:27.818712",
     "exception": false,
     "start_time": "2020-12-01T20:16:27.752222",
     "status": "completed"
    },
    "tags": []
   },
   "outputs": [
    {
     "data": {
      "text/html": [
       "<div>\n",
       "<style scoped>\n",
       "    .dataframe tbody tr th:only-of-type {\n",
       "        vertical-align: middle;\n",
       "    }\n",
       "\n",
       "    .dataframe tbody tr th {\n",
       "        vertical-align: top;\n",
       "    }\n",
       "\n",
       "    .dataframe thead th {\n",
       "        text-align: right;\n",
       "    }\n",
       "</style>\n",
       "<table border=\"1\" class=\"dataframe\">\n",
       "  <thead>\n",
       "    <tr style=\"text-align: right;\">\n",
       "      <th></th>\n",
       "      <th>name</th>\n",
       "      <th>MDVP:Fo(Hz)</th>\n",
       "      <th>MDVP:Fhi(Hz)</th>\n",
       "      <th>MDVP:Flo(Hz)</th>\n",
       "      <th>MDVP:Jitter(%)</th>\n",
       "      <th>MDVP:Jitter(Abs)</th>\n",
       "      <th>MDVP:RAP</th>\n",
       "      <th>MDVP:PPQ</th>\n",
       "      <th>Jitter:DDP</th>\n",
       "      <th>MDVP:Shimmer</th>\n",
       "      <th>...</th>\n",
       "      <th>Shimmer:DDA</th>\n",
       "      <th>NHR</th>\n",
       "      <th>HNR</th>\n",
       "      <th>status</th>\n",
       "      <th>RPDE</th>\n",
       "      <th>DFA</th>\n",
       "      <th>spread1</th>\n",
       "      <th>spread2</th>\n",
       "      <th>D2</th>\n",
       "      <th>PPE</th>\n",
       "    </tr>\n",
       "  </thead>\n",
       "  <tbody>\n",
       "    <tr>\n",
       "      <th>0</th>\n",
       "      <td>phon_R01_S01_1</td>\n",
       "      <td>119.992</td>\n",
       "      <td>157.302</td>\n",
       "      <td>74.997</td>\n",
       "      <td>0.00784</td>\n",
       "      <td>0.00007</td>\n",
       "      <td>0.00370</td>\n",
       "      <td>0.00554</td>\n",
       "      <td>0.01109</td>\n",
       "      <td>0.04374</td>\n",
       "      <td>...</td>\n",
       "      <td>0.06545</td>\n",
       "      <td>0.02211</td>\n",
       "      <td>21.033</td>\n",
       "      <td>1</td>\n",
       "      <td>0.414783</td>\n",
       "      <td>0.815285</td>\n",
       "      <td>-4.813031</td>\n",
       "      <td>0.266482</td>\n",
       "      <td>2.301442</td>\n",
       "      <td>0.284654</td>\n",
       "    </tr>\n",
       "    <tr>\n",
       "      <th>1</th>\n",
       "      <td>phon_R01_S01_2</td>\n",
       "      <td>122.400</td>\n",
       "      <td>148.650</td>\n",
       "      <td>113.819</td>\n",
       "      <td>0.00968</td>\n",
       "      <td>0.00008</td>\n",
       "      <td>0.00465</td>\n",
       "      <td>0.00696</td>\n",
       "      <td>0.01394</td>\n",
       "      <td>0.06134</td>\n",
       "      <td>...</td>\n",
       "      <td>0.09403</td>\n",
       "      <td>0.01929</td>\n",
       "      <td>19.085</td>\n",
       "      <td>1</td>\n",
       "      <td>0.458359</td>\n",
       "      <td>0.819521</td>\n",
       "      <td>-4.075192</td>\n",
       "      <td>0.335590</td>\n",
       "      <td>2.486855</td>\n",
       "      <td>0.368674</td>\n",
       "    </tr>\n",
       "    <tr>\n",
       "      <th>2</th>\n",
       "      <td>phon_R01_S01_3</td>\n",
       "      <td>116.682</td>\n",
       "      <td>131.111</td>\n",
       "      <td>111.555</td>\n",
       "      <td>0.01050</td>\n",
       "      <td>0.00009</td>\n",
       "      <td>0.00544</td>\n",
       "      <td>0.00781</td>\n",
       "      <td>0.01633</td>\n",
       "      <td>0.05233</td>\n",
       "      <td>...</td>\n",
       "      <td>0.08270</td>\n",
       "      <td>0.01309</td>\n",
       "      <td>20.651</td>\n",
       "      <td>1</td>\n",
       "      <td>0.429895</td>\n",
       "      <td>0.825288</td>\n",
       "      <td>-4.443179</td>\n",
       "      <td>0.311173</td>\n",
       "      <td>2.342259</td>\n",
       "      <td>0.332634</td>\n",
       "    </tr>\n",
       "    <tr>\n",
       "      <th>3</th>\n",
       "      <td>phon_R01_S01_4</td>\n",
       "      <td>116.676</td>\n",
       "      <td>137.871</td>\n",
       "      <td>111.366</td>\n",
       "      <td>0.00997</td>\n",
       "      <td>0.00009</td>\n",
       "      <td>0.00502</td>\n",
       "      <td>0.00698</td>\n",
       "      <td>0.01505</td>\n",
       "      <td>0.05492</td>\n",
       "      <td>...</td>\n",
       "      <td>0.08771</td>\n",
       "      <td>0.01353</td>\n",
       "      <td>20.644</td>\n",
       "      <td>1</td>\n",
       "      <td>0.434969</td>\n",
       "      <td>0.819235</td>\n",
       "      <td>-4.117501</td>\n",
       "      <td>0.334147</td>\n",
       "      <td>2.405554</td>\n",
       "      <td>0.368975</td>\n",
       "    </tr>\n",
       "    <tr>\n",
       "      <th>4</th>\n",
       "      <td>phon_R01_S01_5</td>\n",
       "      <td>116.014</td>\n",
       "      <td>141.781</td>\n",
       "      <td>110.655</td>\n",
       "      <td>0.01284</td>\n",
       "      <td>0.00011</td>\n",
       "      <td>0.00655</td>\n",
       "      <td>0.00908</td>\n",
       "      <td>0.01966</td>\n",
       "      <td>0.06425</td>\n",
       "      <td>...</td>\n",
       "      <td>0.10470</td>\n",
       "      <td>0.01767</td>\n",
       "      <td>19.649</td>\n",
       "      <td>1</td>\n",
       "      <td>0.417356</td>\n",
       "      <td>0.823484</td>\n",
       "      <td>-3.747787</td>\n",
       "      <td>0.234513</td>\n",
       "      <td>2.332180</td>\n",
       "      <td>0.410335</td>\n",
       "    </tr>\n",
       "  </tbody>\n",
       "</table>\n",
       "<p>5 rows × 24 columns</p>\n",
       "</div>"
      ],
      "text/plain": [
       "             name  MDVP:Fo(Hz)  MDVP:Fhi(Hz)  MDVP:Flo(Hz)  MDVP:Jitter(%)  \\\n",
       "0  phon_R01_S01_1      119.992       157.302        74.997         0.00784   \n",
       "1  phon_R01_S01_2      122.400       148.650       113.819         0.00968   \n",
       "2  phon_R01_S01_3      116.682       131.111       111.555         0.01050   \n",
       "3  phon_R01_S01_4      116.676       137.871       111.366         0.00997   \n",
       "4  phon_R01_S01_5      116.014       141.781       110.655         0.01284   \n",
       "\n",
       "   MDVP:Jitter(Abs)  MDVP:RAP  MDVP:PPQ  Jitter:DDP  MDVP:Shimmer  ...  \\\n",
       "0           0.00007   0.00370   0.00554     0.01109       0.04374  ...   \n",
       "1           0.00008   0.00465   0.00696     0.01394       0.06134  ...   \n",
       "2           0.00009   0.00544   0.00781     0.01633       0.05233  ...   \n",
       "3           0.00009   0.00502   0.00698     0.01505       0.05492  ...   \n",
       "4           0.00011   0.00655   0.00908     0.01966       0.06425  ...   \n",
       "\n",
       "   Shimmer:DDA      NHR     HNR  status      RPDE       DFA   spread1  \\\n",
       "0      0.06545  0.02211  21.033       1  0.414783  0.815285 -4.813031   \n",
       "1      0.09403  0.01929  19.085       1  0.458359  0.819521 -4.075192   \n",
       "2      0.08270  0.01309  20.651       1  0.429895  0.825288 -4.443179   \n",
       "3      0.08771  0.01353  20.644       1  0.434969  0.819235 -4.117501   \n",
       "4      0.10470  0.01767  19.649       1  0.417356  0.823484 -3.747787   \n",
       "\n",
       "    spread2        D2       PPE  \n",
       "0  0.266482  2.301442  0.284654  \n",
       "1  0.335590  2.486855  0.368674  \n",
       "2  0.311173  2.342259  0.332634  \n",
       "3  0.334147  2.405554  0.368975  \n",
       "4  0.234513  2.332180  0.410335  \n",
       "\n",
       "[5 rows x 24 columns]"
      ]
     },
     "execution_count": 4,
     "metadata": {},
     "output_type": "execute_result"
    }
   ],
   "source": [
    "df.head()"
   ]
  },
  {
   "cell_type": "markdown",
   "metadata": {
    "papermill": {
     "duration": 0.017838,
     "end_time": "2020-12-01T20:16:27.855215",
     "exception": false,
     "start_time": "2020-12-01T20:16:27.837377",
     "status": "completed"
    },
    "tags": []
   },
   "source": [
    "We see that the names of the patients are encoded (probably for privacy). That won't be a problem, as the name of a person is not a significant factor in this problem. We then see all the different voice measurements and the 'status' column."
   ]
  },
  {
   "cell_type": "markdown",
   "metadata": {
    "papermill": {
     "duration": 0.01793,
     "end_time": "2020-12-01T20:16:27.891427",
     "exception": false,
     "start_time": "2020-12-01T20:16:27.873497",
     "status": "completed"
    },
    "tags": []
   },
   "source": [
    "Let's build a correlation matrix to see what values are correlated with the column 'status'. Additionally, columns that are highly correlated to each other could cause overfitting. We might want to drop one or more of these to prevent this issue."
   ]
  },
  {
   "cell_type": "code",
   "execution_count": 5,
   "metadata": {
    "execution": {
     "iopub.execute_input": "2020-12-01T20:16:27.941151Z",
     "iopub.status.busy": "2020-12-01T20:16:27.940280Z",
     "iopub.status.idle": "2020-12-01T20:16:28.644052Z",
     "shell.execute_reply": "2020-12-01T20:16:28.644632Z"
    },
    "papermill": {
     "duration": 0.735104,
     "end_time": "2020-12-01T20:16:28.644787",
     "exception": false,
     "start_time": "2020-12-01T20:16:27.909683",
     "status": "completed"
    },
    "tags": []
   },
   "outputs": [
    {
     "data": {
      "image/png": "[encoded data removed]",
      "text/plain": [
       "<Figure size 1008x864 with 2 Axes>"
      ]
     },
     "metadata": {
      "needs_background": "light"
     },
     "output_type": "display_data"
    }
   ],
   "source": [
    "correlation = df.corr()\n",
    "f, ax = plt.subplots(figsize = (14, 12))\n",
    "plt.title(\"Correlation of Variables\")\n",
    "sns.heatmap(correlation)\n",
    "plt.show()"
   ]
  },
  {
   "cell_type": "markdown",
   "metadata": {
    "papermill": {
     "duration": 0.019713,
     "end_time": "2020-12-01T20:16:28.684519",
     "exception": false,
     "start_time": "2020-12-01T20:16:28.664806",
     "status": "completed"
    },
    "tags": []
   },
   "source": [
    "As we can see from the next two lists (and from the heatmap), a few columns are highly correlated to MDVP:Shimmer and MDVP:Jitter"
   ]
  },
  {
   "cell_type": "code",
   "execution_count": 6,
   "metadata": {
    "execution": {
     "iopub.execute_input": "2020-12-01T20:16:28.737941Z",
     "iopub.status.busy": "2020-12-01T20:16:28.737001Z",
     "iopub.status.idle": "2020-12-01T20:16:28.742098Z",
     "shell.execute_reply": "2020-12-01T20:16:28.741327Z"
    },
    "papermill": {
     "duration": 0.037649,
     "end_time": "2020-12-01T20:16:28.742238",
     "exception": false,
     "start_time": "2020-12-01T20:16:28.704589",
     "status": "completed"
    },
    "tags": []
   },
   "outputs": [
    {
     "data": {
      "text/plain": [
       "MDVP:Shimmer        1.000000\n",
       "Shimmer:DDA         0.987626\n",
       "Shimmer:APQ3        0.987625\n",
       "MDVP:Shimmer(dB)    0.987258\n",
       "Shimmer:APQ5        0.982835\n",
       "MDVP:APQ            0.950083\n",
       "MDVP:PPQ            0.797826\n",
       "MDVP:Jitter(%)      0.769063\n",
       "MDVP:RAP            0.759581\n",
       "Jitter:DDP          0.759555\n",
       "NHR                 0.722194\n",
       "MDVP:Jitter(Abs)    0.703322\n",
       "PPE                 0.693771\n",
       "spread1             0.654734\n",
       "D2                  0.507088\n",
       "spread2             0.452025\n",
       "RPDE                0.447424\n",
       "status              0.367430\n",
       "DFA                 0.159954\n",
       "MDVP:Fhi(Hz)        0.002281\n",
       "MDVP:Fo(Hz)        -0.098374\n",
       "MDVP:Flo(Hz)       -0.144543\n",
       "HNR                -0.835271\n",
       "Name: MDVP:Shimmer, dtype: float64"
      ]
     },
     "execution_count": 6,
     "metadata": {},
     "output_type": "execute_result"
    }
   ],
   "source": [
    "correlation[\"MDVP:Shimmer\"].sort_values(ascending = False)"
   ]
  },
  {
   "cell_type": "code",
   "execution_count": 7,
   "metadata": {
    "execution": {
     "iopub.execute_input": "2020-12-01T20:16:28.795535Z",
     "iopub.status.busy": "2020-12-01T20:16:28.794484Z",
     "iopub.status.idle": "2020-12-01T20:16:28.798400Z",
     "shell.execute_reply": "2020-12-01T20:16:28.798957Z"
    },
    "papermill": {
     "duration": 0.034749,
     "end_time": "2020-12-01T20:16:28.799116",
     "exception": false,
     "start_time": "2020-12-01T20:16:28.764367",
     "status": "completed"
    },
    "tags": []
   },
   "outputs": [
    {
     "data": {
      "text/plain": [
       "MDVP:Jitter(%)      1.000000\n",
       "Jitter:DDP          0.990276\n",
       "MDVP:RAP            0.990276\n",
       "MDVP:PPQ            0.974256\n",
       "MDVP:Jitter(Abs)    0.935714\n",
       "NHR                 0.906959\n",
       "MDVP:Shimmer(dB)    0.804289\n",
       "MDVP:Shimmer        0.769063\n",
       "MDVP:APQ            0.758255\n",
       "Shimmer:DDA         0.746635\n",
       "Shimmer:APQ3        0.746625\n",
       "Shimmer:APQ5        0.725561\n",
       "PPE                 0.721543\n",
       "spread1             0.693577\n",
       "D2                  0.433434\n",
       "spread2             0.385123\n",
       "RPDE                0.360673\n",
       "status              0.278220\n",
       "MDVP:Fhi(Hz)        0.102086\n",
       "DFA                 0.098572\n",
       "MDVP:Fo(Hz)        -0.118003\n",
       "MDVP:Flo(Hz)       -0.139919\n",
       "HNR                -0.728165\n",
       "Name: MDVP:Jitter(%), dtype: float64"
      ]
     },
     "execution_count": 7,
     "metadata": {},
     "output_type": "execute_result"
    }
   ],
   "source": [
    "correlation['MDVP:Jitter(%)'].sort_values(ascending = False)"
   ]
  },
  {
   "cell_type": "markdown",
   "metadata": {
    "papermill": {
     "duration": 0.020802,
     "end_time": "2020-12-01T20:16:28.841202",
     "exception": false,
     "start_time": "2020-12-01T20:16:28.820400",
     "status": "completed"
    },
    "tags": []
   },
   "source": [
    "Based on these informaiton, we'll drop some columns to prevent overfitting."
   ]
  },
  {
   "cell_type": "code",
   "execution_count": 8,
   "metadata": {
    "execution": {
     "iopub.execute_input": "2020-12-01T20:16:28.894125Z",
     "iopub.status.busy": "2020-12-01T20:16:28.893213Z",
     "iopub.status.idle": "2020-12-01T20:16:28.897185Z",
     "shell.execute_reply": "2020-12-01T20:16:28.896514Z"
    },
    "papermill": {
     "duration": 0.034837,
     "end_time": "2020-12-01T20:16:28.897323",
     "exception": false,
     "start_time": "2020-12-01T20:16:28.862486",
     "status": "completed"
    },
    "tags": []
   },
   "outputs": [],
   "source": [
    "Parkinsons_features = df.drop(['name','status', 'Shimmer:DDA', 'Shimmer:APQ3', 'MDVP:Shimmer(dB)', \"Shimmer:APQ5\", 'MDVP:APQ', 'Jitter:DDP', 'MDVP:RAP', 'MDVP:PPQ'], inplace = False, axis = 1)\n",
    "Parkinsons_labels = df['status']"
   ]
  },
  {
   "cell_type": "markdown",
   "metadata": {
    "papermill": {
     "duration": 0.021641,
     "end_time": "2020-12-01T20:16:28.940784",
     "exception": false,
     "start_time": "2020-12-01T20:16:28.919143",
     "status": "completed"
    },
    "tags": []
   },
   "source": [
    "Next, we are going to scale all values between 0 and 1, so that no column will result more 'important' than others."
   ]
  },
  {
   "cell_type": "code",
   "execution_count": 9,
   "metadata": {
    "execution": {
     "iopub.execute_input": "2020-12-01T20:16:28.995504Z",
     "iopub.status.busy": "2020-12-01T20:16:28.994636Z",
     "iopub.status.idle": "2020-12-01T20:16:28.998132Z",
     "shell.execute_reply": "2020-12-01T20:16:28.997409Z"
    },
    "papermill": {
     "duration": 0.035828,
     "end_time": "2020-12-01T20:16:28.998263",
     "exception": false,
     "start_time": "2020-12-01T20:16:28.962435",
     "status": "completed"
    },
    "tags": []
   },
   "outputs": [],
   "source": [
    "scaler = MinMaxScaler((0,1))\n",
    "X = scaler.fit_transform(Parkinsons_features)\n",
    "y = Parkinsons_labels"
   ]
  },
  {
   "cell_type": "markdown",
   "metadata": {
    "papermill": {
     "duration": 0.021724,
     "end_time": "2020-12-01T20:16:29.044155",
     "exception": false,
     "start_time": "2020-12-01T20:16:29.022431",
     "status": "completed"
    },
    "tags": []
   },
   "source": [
    "We can now split our dataset. We are using 80% of the data for training and we will try to predict the outcome of the remaining 20%. "
   ]
  },
  {
   "cell_type": "code",
   "execution_count": 10,
   "metadata": {
    "execution": {
     "iopub.execute_input": "2020-12-01T20:16:29.096320Z",
     "iopub.status.busy": "2020-12-01T20:16:29.095509Z",
     "iopub.status.idle": "2020-12-01T20:16:29.098745Z",
     "shell.execute_reply": "2020-12-01T20:16:29.099357Z"
    },
    "papermill": {
     "duration": 0.033458,
     "end_time": "2020-12-01T20:16:29.099519",
     "exception": false,
     "start_time": "2020-12-01T20:16:29.066061",
     "status": "completed"
    },
    "tags": []
   },
   "outputs": [],
   "source": [
    "X_train,X_test,y_train,y_test = train_test_split(X, y, test_size  = 0.2, random_state = 1)"
   ]
  },
  {
   "cell_type": "markdown",
   "metadata": {
    "papermill": {
     "duration": 0.021304,
     "end_time": "2020-12-01T20:16:29.142639",
     "exception": false,
     "start_time": "2020-12-01T20:16:29.121335",
     "status": "completed"
    },
    "tags": []
   },
   "source": [
    "We will use XGBoost, as it is known to outperform other models quite often."
   ]
  },
  {
   "cell_type": "code",
   "execution_count": 11,
   "metadata": {
    "execution": {
     "iopub.execute_input": "2020-12-01T20:16:29.195593Z",
     "iopub.status.busy": "2020-12-01T20:16:29.194687Z",
     "iopub.status.idle": "2020-12-01T20:16:29.239963Z",
     "shell.execute_reply": "2020-12-01T20:16:29.240821Z"
    },
    "papermill": {
     "duration": 0.075993,
     "end_time": "2020-12-01T20:16:29.241057",
     "exception": false,
     "start_time": "2020-12-01T20:16:29.165064",
     "status": "completed"
    },
    "tags": []
   },
   "outputs": [
    {
     "data": {
      "text/plain": [
       "XGBClassifier(base_score=0.5, booster='gbtree', colsample_bylevel=1,\n",
       "              colsample_bynode=1, colsample_bytree=1, gamma=0, gpu_id=-1,\n",
       "              importance_type='gain', interaction_constraints='',\n",
       "              learning_rate=0.300000012, max_delta_step=0, max_depth=6,\n",
       "              min_child_weight=1, missing=nan, monotone_constraints='()',\n",
       "              n_estimators=100, n_jobs=0, num_parallel_tree=1, random_state=0,\n",
       "              reg_alpha=0, reg_lambda=1, scale_pos_weight=1, subsample=1,\n",
       "              tree_method='exact', validate_parameters=1, verbosity=None)"
      ]
     },
     "execution_count": 11,
     "metadata": {},
     "output_type": "execute_result"
    }
   ],
   "source": [
    "model = XGBClassifier() #imported the necessary library in the beginning\n",
    "model.fit(X_train,y_train)"
   ]
  },
  {
   "cell_type": "code",
   "execution_count": 12,
   "metadata": {
    "execution": {
     "iopub.execute_input": "2020-12-01T20:16:29.302219Z",
     "iopub.status.busy": "2020-12-01T20:16:29.301342Z",
     "iopub.status.idle": "2020-12-01T20:16:29.309998Z",
     "shell.execute_reply": "2020-12-01T20:16:29.310856Z"
    },
    "papermill": {
     "duration": 0.042965,
     "end_time": "2020-12-01T20:16:29.311076",
     "exception": false,
     "start_time": "2020-12-01T20:16:29.268111",
     "status": "completed"
    },
    "tags": []
   },
   "outputs": [
    {
     "name": "stdout",
     "output_type": "stream",
     "text": [
      "[1 1 1 1 1 1 1 1 0 1 1 0 1 1 1 0 1 1 1 1 0 1 1 1 1 1 1 1 1 0 1 0 1 0 1 1 0\n",
      " 1 0]\n",
      "97.43589743589743\n"
     ]
    }
   ],
   "source": [
    "predictions = model.predict(X_test)\n",
    "print(predictions)\n",
    "print(accuracy_score(y_test, predictions)*100)"
   ]
  },
  {
   "cell_type": "markdown",
   "metadata": {
    "papermill": {
     "duration": 0.027445,
     "end_time": "2020-12-01T20:16:29.367147",
     "exception": false,
     "start_time": "2020-12-01T20:16:29.339702",
     "status": "completed"
    },
    "tags": []
   },
   "source": [
    "By comparing our predictions with the initial dataset, we notice that the XGBoost model was able to predict if the patients had Parkinson's disease with about 97.44% accuracy. We have achieved our goal: we know now that it is possible to detect Parkinson's disease from voice measurements."
   ]
  }
 ],
 "metadata": {
  "kernelspec": {
   "display_name": "Python 3",
   "language": "python",
   "name": "python3"
  },
  "language_info": {
   "codemirror_mode": {
    "name": "ipython",
    "version": 3
   },
   "file_extension": ".py",
   "mimetype": "text/x-python",
   "name": "python",
   "nbconvert_exporter": "python",
   "pygments_lexer": "ipython3",
   "version": "3.7.6"
  },
  "papermill": {
   "duration": 10.464571,
   "end_time": "2020-12-01T20:16:29.505284",
   "environment_variables": {},
   "exception": null,
   "input_path": "__notebook__.ipynb",
   "output_path": "__notebook__.ipynb",
   "parameters": {},
   "start_time": "2020-12-01T20:16:19.040713",
   "version": "2.1.0"
  }
 },
 "nbformat": 4,
 "nbformat_minor": 4
}
